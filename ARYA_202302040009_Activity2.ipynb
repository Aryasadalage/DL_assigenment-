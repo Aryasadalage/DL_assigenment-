{
  "nbformat": 4,
  "nbformat_minor": 0,
  "metadata": {
    "colab": {
      "provenance": []
    },
    "kernelspec": {
      "name": "python3",
      "display_name": "Python 3"
    },
    "language_info": {
      "name": "python"
    }
  },
  "cells": [
    {
      "cell_type": "markdown",
      "source": [
        "\n",
        "Activity 2:  Quantum ComputingAssignment\n",
        "\n",
        "\n",
        "This script compares a classical model and a hybrid quantum-classical model\n",
        "on the MNIST digit classification task using a small subset of the dataset.\n",
        "\n"
      ],
      "metadata": {
        "id": "-LR_21z0lojL"
      }
    },
    {
      "cell_type": "code",
      "source": [
        "# Install required library\n",
        "!pip install pennylane torchvision\n"
      ],
      "metadata": {
        "colab": {
          "base_uri": "https://localhost:8080/"
        },
        "id": "4N6NxQCwjBrq",
        "outputId": "84dc1d73-9004-40fe-c0d6-3c94504c1ca9"
      },
      "execution_count": 13,
      "outputs": [
        {
          "output_type": "stream",
          "name": "stdout",
          "text": [
            "Requirement already satisfied: pennylane in /usr/local/lib/python3.11/dist-packages (0.41.0)\n",
            "Requirement already satisfied: torchvision in /usr/local/lib/python3.11/dist-packages (0.21.0+cu124)\n",
            "Requirement already satisfied: numpy in /usr/local/lib/python3.11/dist-packages (from pennylane) (2.0.2)\n",
            "Requirement already satisfied: scipy in /usr/local/lib/python3.11/dist-packages (from pennylane) (1.14.1)\n",
            "Requirement already satisfied: networkx in /usr/local/lib/python3.11/dist-packages (from pennylane) (3.4.2)\n",
            "Requirement already satisfied: rustworkx>=0.14.0 in /usr/local/lib/python3.11/dist-packages (from pennylane) (0.16.0)\n",
            "Requirement already satisfied: autograd in /usr/local/lib/python3.11/dist-packages (from pennylane) (1.7.0)\n",
            "Requirement already satisfied: tomlkit in /usr/local/lib/python3.11/dist-packages (from pennylane) (0.13.2)\n",
            "Requirement already satisfied: appdirs in /usr/local/lib/python3.11/dist-packages (from pennylane) (1.4.4)\n",
            "Requirement already satisfied: autoray>=0.6.11 in /usr/local/lib/python3.11/dist-packages (from pennylane) (0.7.1)\n",
            "Requirement already satisfied: cachetools in /usr/local/lib/python3.11/dist-packages (from pennylane) (5.5.2)\n",
            "Requirement already satisfied: pennylane-lightning>=0.41 in /usr/local/lib/python3.11/dist-packages (from pennylane) (0.41.0)\n",
            "Requirement already satisfied: requests in /usr/local/lib/python3.11/dist-packages (from pennylane) (2.32.3)\n",
            "Requirement already satisfied: typing-extensions in /usr/local/lib/python3.11/dist-packages (from pennylane) (4.13.2)\n",
            "Requirement already satisfied: packaging in /usr/local/lib/python3.11/dist-packages (from pennylane) (24.2)\n",
            "Requirement already satisfied: diastatic-malt in /usr/local/lib/python3.11/dist-packages (from pennylane) (2.15.2)\n",
            "Requirement already satisfied: torch==2.6.0 in /usr/local/lib/python3.11/dist-packages (from torchvision) (2.6.0+cu124)\n",
            "Requirement already satisfied: pillow!=8.3.*,>=5.3.0 in /usr/local/lib/python3.11/dist-packages (from torchvision) (11.1.0)\n",
            "Requirement already satisfied: filelock in /usr/local/lib/python3.11/dist-packages (from torch==2.6.0->torchvision) (3.18.0)\n",
            "Requirement already satisfied: jinja2 in /usr/local/lib/python3.11/dist-packages (from torch==2.6.0->torchvision) (3.1.6)\n",
            "Requirement already satisfied: fsspec in /usr/local/lib/python3.11/dist-packages (from torch==2.6.0->torchvision) (2025.3.2)\n",
            "Requirement already satisfied: nvidia-cuda-nvrtc-cu12==12.4.127 in /usr/local/lib/python3.11/dist-packages (from torch==2.6.0->torchvision) (12.4.127)\n",
            "Requirement already satisfied: nvidia-cuda-runtime-cu12==12.4.127 in /usr/local/lib/python3.11/dist-packages (from torch==2.6.0->torchvision) (12.4.127)\n",
            "Requirement already satisfied: nvidia-cuda-cupti-cu12==12.4.127 in /usr/local/lib/python3.11/dist-packages (from torch==2.6.0->torchvision) (12.4.127)\n",
            "Requirement already satisfied: nvidia-cudnn-cu12==9.1.0.70 in /usr/local/lib/python3.11/dist-packages (from torch==2.6.0->torchvision) (9.1.0.70)\n",
            "Requirement already satisfied: nvidia-cublas-cu12==12.4.5.8 in /usr/local/lib/python3.11/dist-packages (from torch==2.6.0->torchvision) (12.4.5.8)\n",
            "Requirement already satisfied: nvidia-cufft-cu12==11.2.1.3 in /usr/local/lib/python3.11/dist-packages (from torch==2.6.0->torchvision) (11.2.1.3)\n",
            "Requirement already satisfied: nvidia-curand-cu12==10.3.5.147 in /usr/local/lib/python3.11/dist-packages (from torch==2.6.0->torchvision) (10.3.5.147)\n",
            "Requirement already satisfied: nvidia-cusolver-cu12==11.6.1.9 in /usr/local/lib/python3.11/dist-packages (from torch==2.6.0->torchvision) (11.6.1.9)\n",
            "Requirement already satisfied: nvidia-cusparse-cu12==12.3.1.170 in /usr/local/lib/python3.11/dist-packages (from torch==2.6.0->torchvision) (12.3.1.170)\n",
            "Requirement already satisfied: nvidia-cusparselt-cu12==0.6.2 in /usr/local/lib/python3.11/dist-packages (from torch==2.6.0->torchvision) (0.6.2)\n",
            "Requirement already satisfied: nvidia-nccl-cu12==2.21.5 in /usr/local/lib/python3.11/dist-packages (from torch==2.6.0->torchvision) (2.21.5)\n",
            "Requirement already satisfied: nvidia-nvtx-cu12==12.4.127 in /usr/local/lib/python3.11/dist-packages (from torch==2.6.0->torchvision) (12.4.127)\n",
            "Requirement already satisfied: nvidia-nvjitlink-cu12==12.4.127 in /usr/local/lib/python3.11/dist-packages (from torch==2.6.0->torchvision) (12.4.127)\n",
            "Requirement already satisfied: triton==3.2.0 in /usr/local/lib/python3.11/dist-packages (from torch==2.6.0->torchvision) (3.2.0)\n",
            "Requirement already satisfied: sympy==1.13.1 in /usr/local/lib/python3.11/dist-packages (from torch==2.6.0->torchvision) (1.13.1)\n",
            "Requirement already satisfied: mpmath<1.4,>=1.1.0 in /usr/local/lib/python3.11/dist-packages (from sympy==1.13.1->torch==2.6.0->torchvision) (1.3.0)\n",
            "Requirement already satisfied: scipy-openblas32>=0.3.26 in /usr/local/lib/python3.11/dist-packages (from pennylane-lightning>=0.41->pennylane) (0.3.29.0.0)\n",
            "Requirement already satisfied: astunparse in /usr/local/lib/python3.11/dist-packages (from diastatic-malt->pennylane) (1.6.3)\n",
            "Requirement already satisfied: gast in /usr/local/lib/python3.11/dist-packages (from diastatic-malt->pennylane) (0.6.0)\n",
            "Requirement already satisfied: termcolor in /usr/local/lib/python3.11/dist-packages (from diastatic-malt->pennylane) (3.0.1)\n",
            "Requirement already satisfied: charset-normalizer<4,>=2 in /usr/local/lib/python3.11/dist-packages (from requests->pennylane) (3.4.1)\n",
            "Requirement already satisfied: idna<4,>=2.5 in /usr/local/lib/python3.11/dist-packages (from requests->pennylane) (3.10)\n",
            "Requirement already satisfied: urllib3<3,>=1.21.1 in /usr/local/lib/python3.11/dist-packages (from requests->pennylane) (2.3.0)\n",
            "Requirement already satisfied: certifi>=2017.4.17 in /usr/local/lib/python3.11/dist-packages (from requests->pennylane) (2025.1.31)\n",
            "Requirement already satisfied: wheel<1.0,>=0.23.0 in /usr/local/lib/python3.11/dist-packages (from astunparse->diastatic-malt->pennylane) (0.45.1)\n",
            "Requirement already satisfied: six<2.0,>=1.6.1 in /usr/local/lib/python3.11/dist-packages (from astunparse->diastatic-malt->pennylane) (1.17.0)\n",
            "Requirement already satisfied: MarkupSafe>=2.0 in /usr/local/lib/python3.11/dist-packages (from jinja2->torch==2.6.0->torchvision) (3.0.2)\n"
          ]
        }
      ]
    },
    {
      "cell_type": "markdown",
      "source": [
        "\n",
        "\n",
        "```\n",
        "Library               | Purpose\n",
        "-----------------------------------------------------------------\n",
        "torch                 | Core deep learning (tensors, models)\n",
        "torch.nn              | Layers and neural network components\n",
        "torch.nn.functional   | Functional ops (activations, softmax, etc.)\n",
        "torch.utils.data      | Dataset splitting and data loading\n",
        "torchvision           | Datasets (MNIST) and preprocessing tools\n",
        "pennylane             | Quantum circuit creation and hybrid modeling\n",
        "pennylane.numpy       | Differentiable NumPy for quantum programming\n",
        "matplotlib.pyplot     | Visualizing results (e.g., loss/accuracy plots)```\n",
        "\n"
      ],
      "metadata": {
        "id": "XeY9pP8x1YeL"
      }
    },
    {
      "cell_type": "code",
      "source": [
        "\n",
        "# === Imports ===\n",
        "import torch\n",
        "import torch.nn as nn\n",
        "import torch.nn.functional as F\n",
        "from torch.utils.data import DataLoader, Subset\n",
        "import torchvision\n",
        "import torchvision.transforms as transforms\n",
        "import pennylane as qml\n",
        "from pennylane import numpy as np\n",
        "import matplotlib.pyplot as plt\n"
      ],
      "metadata": {
        "id": "xCIez50Mj7wq"
      },
      "execution_count": 14,
      "outputs": []
    },
    {
      "cell_type": "markdown",
      "source": [
        "\n",
        "\n",
        "```\n",
        "🔧 Configurations\n",
        "\n",
        "n_qubits = 4: Defines the number of qubits to use in the quantum circuit.\n",
        "\n",
        "qml.device(...): Creates a quantum simulator using PennyLane’s default.qubit backend.\n",
        "\n",
        "wires=n_qubits: Assigns 4 \"wires\", i.e., qubits, to this device.\n",
        "\n",
        "\n",
        "```\n",
        "\n"
      ],
      "metadata": {
        "id": "YbhUcNst2CB6"
      }
    },
    {
      "cell_type": "code",
      "source": [
        "\n",
        "# === Configurations ===\n",
        "n_qubits = 4\n",
        "dev = qml.device(\"default.qubit\", wires=n_qubits)\n"
      ],
      "metadata": {
        "id": "S9k13JPT2BUi"
      },
      "execution_count": 15,
      "outputs": []
    },
    {
      "cell_type": "markdown",
      "source": [
        "\n",
        "\n",
        "```\n",
        "⚛️ Quantum Circuit Definition\n",
        "```\n",
        "\n"
      ],
      "metadata": {
        "id": "D0Dagcu32KF6"
      }
    },
    {
      "cell_type": "code",
      "source": [
        "\n",
        "# === Quantum Circuit ===\n",
        "def quantum_layer(inputs, weights):\n",
        "    for i in range(n_qubits):\n",
        "        qml.RY(inputs[i], wires=i)\n",
        "    for i in range(0, n_qubits, 2):\n",
        "        qml.RY(weights[i][0], wires=i)\n",
        "        qml.RY(weights[i][1], wires=i+1)\n",
        "        qml.CNOT(wires=[i, i+1])\n",
        "    return [qml.expval(qml.PauliZ(i)) for i in range(n_qubits)]\n",
        "\n"
      ],
      "metadata": {
        "id": "ECoGZbEQ2VQb"
      },
      "execution_count": 16,
      "outputs": []
    },
    {
      "cell_type": "markdown",
      "source": [
        "\n",
        "\n",
        "```\n",
        "🔗 Quantum Node (QNode)\n",
        "\n",
        "Wraps the quantum circuit into a QNode, which makes it compatible with PyTorch.\n",
        "\n",
        "interface='torch': Enables autograd and integration with PyTorch's training ecosystem.\n",
        "\n",
        "This function can now be used as a \"layer\" in your hybrid model.\n",
        "\n",
        "\n",
        "```\n",
        "\n"
      ],
      "metadata": {
        "id": "SiFYG6j62V4T"
      }
    },
    {
      "cell_type": "code",
      "source": [
        "@qml.qnode(dev, interface='torch')\n",
        "def qcnn(inputs, weights):\n",
        "    return quantum_layer(inputs, weights)\n"
      ],
      "metadata": {
        "id": "i1y-qgcI2i7k"
      },
      "execution_count": 17,
      "outputs": []
    },
    {
      "cell_type": "markdown",
      "source": [
        "\n",
        "\n",
        "```\n",
        "🧠 Classical Logistic Regression Model\n",
        "\n",
        "A simple logistic regression model using PyTorch.\n",
        "\n",
        "Input: 4x4 image flattened to 16 pixels.\n",
        "\n",
        "Output: Probability distribution over 10 classes (digits 0-9).\n",
        "\n",
        "Uses log_softmax for numerical stability in classification.\n",
        "\n",
        "\n",
        "```\n",
        "\n"
      ],
      "metadata": {
        "id": "ZfMT_fly2j3L"
      }
    },
    {
      "cell_type": "code",
      "source": [
        "\n",
        "# === Classical Logistic Regression Model ===\n",
        "class ClassicalModel(nn.Module):\n",
        "    def __init__(self):\n",
        "        super().__init__()\n",
        "        self.linear = nn.Linear(16, 10)  # 16 input features from 4x4 image\n",
        "\n",
        "    def forward(self, x):\n",
        "        x = x.view(1, -1)  # Ensure correct shape (1x16)\n",
        "        return F.log_softmax(self.linear(x), dim=1)\n",
        "\n"
      ],
      "metadata": {
        "id": "ps-JyAPaj_r6"
      },
      "execution_count": 18,
      "outputs": []
    },
    {
      "cell_type": "markdown",
      "source": [
        "\n",
        "\n",
        "```\n",
        "🔄 Hybrid Quantum-Classical Model\n",
        "\n",
        "This model combines a quantum circuit with a classical neural network layer.\n",
        "\n",
        "Steps:\n",
        "\n",
        "self.q_weights: Trainable quantum parameters of shape (4, 2) — used in RY gates.\n",
        "\n",
        "qcnn(x, self.q_weights): Runs the input through the quantum circuit.\n",
        "\n",
        "fc: A linear layer maps the quantum outputs (4 values) to 10 classes.\n",
        "\n",
        "Applies log_softmax for final classification.\n",
        "\n",
        "```\n",
        "\n"
      ],
      "metadata": {
        "id": "UBYcxIDt2uqr"
      }
    },
    {
      "cell_type": "code",
      "source": [
        "# === Hybrid Quantum-Classical Model ===\n",
        "class HybridQCNNModel(nn.Module):\n",
        "    def __init__(self):\n",
        "        super().__init__()\n",
        "        self.q_weights = nn.Parameter(torch.randn((n_qubits, 2)))\n",
        "        self.fc = nn.Linear(n_qubits, 10)\n",
        "\n",
        "    def forward(self, x):\n",
        "        x = qcnn(x, self.q_weights)\n",
        "        x = torch.stack(x).unsqueeze(0).float()  # ensure float32\n",
        "        return F.log_softmax(self.fc(x), dim=1)\n"
      ],
      "metadata": {
        "id": "MC6qQX0S207T"
      },
      "execution_count": 19,
      "outputs": []
    },
    {
      "cell_type": "markdown",
      "source": [
        "\n",
        "\n",
        "```\n",
        "Data Preparation\n",
        "\n",
        "Resize((4, 4)): MNIST digits (28x28) are resized to 4x4 for use with 4 qubits (1 qubit per pixel row).\n",
        "\n",
        "ToTensor(): Converts image into a PyTorch tensor with pixel values between 0 and 1.\n",
        "\n",
        "Lambda(...): Flattens the 4x4 image into a 16-element vector, and scales values by π. This is done for quantum input encoding via angle rotations (RY gates).\n",
        "\n",
        "\n",
        "```\n",
        "\n"
      ],
      "metadata": {
        "id": "ip45Agw-2_sT"
      }
    },
    {
      "cell_type": "code",
      "source": [
        "\n",
        "# === Data Preparation ===\n",
        "transform = transforms.Compose([\n",
        "    transforms.Resize((4, 4)),\n",
        "    transforms.ToTensor(),\n",
        "    transforms.Lambda(lambda x: x.view(-1) * np.pi)\n",
        "])\n"
      ],
      "metadata": {
        "id": "KETKeWHr3CZT"
      },
      "execution_count": 20,
      "outputs": []
    },
    {
      "cell_type": "markdown",
      "source": [
        "\n",
        "\n",
        "```\n",
        "Dataset Loading\n",
        "\n",
        "Loads the MNIST handwritten digits dataset.\n",
        "\n",
        "Applies the above transform to every image.\n",
        "\n",
        "Subsets:\n",
        "\n",
        "train_data: First 800 samples.\n",
        "\n",
        "val_data: Next 200 samples for validation.\n",
        "\n",
        "```\n",
        "\n"
      ],
      "metadata": {
        "id": "dJGc1W5f3G3L"
      }
    },
    {
      "cell_type": "code",
      "source": [
        "\n",
        "dataset = torchvision.datasets.MNIST(root='./data', train=True, download=True, transform=transform)\n",
        "train_data = Subset(dataset, range(800))\n",
        "val_data = Subset(dataset, range(800, 1000))\n"
      ],
      "metadata": {
        "id": "x_flkKhE3ZYj"
      },
      "execution_count": 21,
      "outputs": []
    },
    {
      "cell_type": "markdown",
      "source": [
        "\n",
        "\n",
        "```\n",
        "DataLoaders\n",
        "```\n",
        "\n"
      ],
      "metadata": {
        "id": "3mNEXTDA3bTc"
      }
    },
    {
      "cell_type": "code",
      "source": [
        "\n",
        "train_loader = DataLoader(train_data, batch_size=1, shuffle=True)\n",
        "val_loader = DataLoader(val_data, batch_size=1, shuffle=False)\n"
      ],
      "metadata": {
        "id": "2eGQaiox3fc7"
      },
      "execution_count": 22,
      "outputs": []
    },
    {
      "cell_type": "markdown",
      "source": [
        "\n",
        "\n",
        "```\n",
        "Training + Evaluation Functions\n",
        "```\n",
        "\n"
      ],
      "metadata": {
        "id": "mcKlYON23l7U"
      }
    },
    {
      "cell_type": "code",
      "source": [
        "\n",
        "# === Training + Evaluation Functions ===\n",
        "def train(model, loader, optimizer, loss_fn, device):\n",
        "    model.train()\n",
        "    total_loss = 0\n",
        "    for data, target in loader:\n",
        "        data, target = data.to(device).squeeze(0), target.to(device)\n",
        "        optimizer.zero_grad()\n",
        "        output = model(data)\n",
        "        loss = loss_fn(output, target)\n",
        "        loss.backward()\n",
        "        optimizer.step()\n",
        "        total_loss += loss.item()\n",
        "    return total_loss\n",
        "\n",
        "def evaluate(model, loader, device):\n",
        "    model.eval()\n",
        "    correct, total = 0, 0\n",
        "    with torch.no_grad():\n",
        "        for data, target in loader:\n",
        "            data, target = data.to(device).squeeze(0), target.to(device)\n",
        "            output = model(data)\n",
        "            pred = output.argmax(dim=1)\n",
        "            correct += int(pred == target)\n",
        "            total += 1\n",
        "    return correct / total\n",
        "\n",
        "# === Training Both Models ===\n",
        "device = torch.device(\"cuda\" if torch.cuda.is_available() else \"cpu\")\n",
        "loss_fn = nn.NLLLoss()\n",
        "# === Track Metrics ===\n",
        "losses_classical, accs_classical = [], []\n",
        "losses_hybrid, accs_hybrid = [], []\n",
        "\n",
        "# === Training Classical Model ===\n",
        "print(\"\\n--- Training Classical Model ---\")\n",
        "for epoch in range(epochs):\n",
        "    loss = train(classical_model, train_loader, optimizer_c, loss_fn, device)\n",
        "    acc = evaluate(classical_model, val_loader, device)\n",
        "    losses_classical.append(loss)\n",
        "    accs_classical.append(acc)\n",
        "    print(f\"Epoch {epoch+1}: Loss = {loss:.4f}, Val Accuracy = {acc:.2%}\")\n",
        "\n",
        "# === Training Hybrid QCNN Model ===\n",
        "print(\"\\n--- Training Hybrid QCNN Model ---\")\n",
        "for epoch in range(epochs):\n",
        "    loss = train(hybrid_model, train_loader, optimizer_h, loss_fn, device)\n",
        "    acc = evaluate(hybrid_model, val_loader, device)\n",
        "    losses_hybrid.append(loss)\n",
        "    accs_hybrid.append(acc)\n",
        "    print(f\"Epoch {epoch+1}: Loss = {loss:.4f}, Val Accuracy = {acc:.2%}\")\n"
      ],
      "metadata": {
        "colab": {
          "base_uri": "https://localhost:8080/"
        },
        "id": "TaKJTxP53k37",
        "outputId": "ec346420-c608-4ff6-813c-2eb110296af4"
      },
      "execution_count": 23,
      "outputs": [
        {
          "output_type": "stream",
          "name": "stdout",
          "text": [
            "\n",
            "--- Training Classical Model ---\n",
            "Epoch 1: Loss = 650.8987, Val Accuracy = 70.50%\n",
            "Epoch 2: Loss = 626.6297, Val Accuracy = 72.50%\n",
            "Epoch 3: Loss = 609.4688, Val Accuracy = 73.50%\n",
            "\n",
            "--- Training Hybrid QCNN Model ---\n",
            "Epoch 1: Loss = 1536.8208, Val Accuracy = 24.50%\n",
            "Epoch 2: Loss = 1540.5054, Val Accuracy = 29.50%\n",
            "Epoch 3: Loss = 1541.9303, Val Accuracy = 24.00%\n"
          ]
        }
      ]
    },
    {
      "cell_type": "markdown",
      "source": [
        "\n",
        "\n",
        "```\n",
        "Plotting Results\n",
        "```\n",
        "\n"
      ],
      "metadata": {
        "id": "bHyJT_BY3sRb"
      }
    },
    {
      "cell_type": "code",
      "source": [
        "\n",
        "# === Plotting ===\n",
        "epochs_range = range(1, epochs + 1)\n",
        "\n",
        "plt.figure(figsize=(12, 5))\n",
        "\n",
        "# Plot Loss\n",
        "plt.subplot(1, 2, 1)\n",
        "plt.plot(epochs_range, losses_classical, 'o-', label='Classical Model')\n",
        "plt.plot(epochs_range, losses_hybrid, 's-', label='Hybrid QCNN Model')\n",
        "plt.title('Training Loss per Epoch')\n",
        "plt.xlabel('Epoch')\n",
        "plt.ylabel('Loss')\n",
        "plt.legend()\n",
        "plt.grid(True)\n",
        "\n",
        "# Plot Accuracy\n",
        "plt.subplot(1, 2, 2)\n",
        "plt.plot(epochs_range, accs_classical, 'o-', label='Classical Model')\n",
        "plt.plot(epochs_range, accs_hybrid, 's-', label='Hybrid QCNN Model')\n",
        "plt.title('Validation Accuracy per Epoch')\n",
        "plt.xlabel('Epoch')\n",
        "plt.ylabel('Accuracy')\n",
        "plt.legend()\n",
        "plt.grid(True)\n",
        "\n",
        "plt.tight_layout()\n",
        "plt.show()\n"
      ],
      "metadata": {
        "colab": {
          "base_uri": "https://localhost:8080/",
          "height": 507
        },
        "id": "-DynqSJ1iV4I",
        "outputId": "ce2555c6-1df3-42c8-ce02-86e2f14fd087"
      },
      "execution_count": 24,
      "outputs": [
        {
          "output_type": "display_data",
          "data": {
            "text/plain": [
              "<Figure size 1200x500 with 2 Axes>"
            ],
            "image/png": "[encoded data removed]"
          },
          "metadata": {}
        }
      ]
    },
    {
      "cell_type": "markdown",
      "source": [
        "\n",
        "<!DOCTYPE html>\n",
        "<html lang=\"en\">\n",
        "<head>\n",
        "    <meta charset=\"UTF-8\">\n",
        "    <title>Quantum vs HPC & Quantum ML Discussion</title>\n",
        "    <style>\n",
        "        body { font-family: Arial, sans-serif; margin: 20px; line-height: 1.6; }\n",
        "        h2 { color: #2c3e50; }\n",
        "        table { width: 100%; border-collapse: collapse; margin: 20px 0; }\n",
        "        th, td { border: 1px solid #ccc; padding: 8px; text-align: left; }\n",
        "        th { background-color: #f4f4f4; }\n",
        "        .summary-table td { vertical-align: top; }\n",
        "        code { background: #f4f4f4; padding: 2px 4px; border-radius: 3px; }\n",
        "    </style>\n",
        "</head>\n",
        "<body>\n",
        "\n",
        "<h2>Task 2 - Discussion</h2>\n",
        "\n",
        "<h3>1. Quantum Computing vs. High-Performance Computing (HPC)</h3>\n",
        "\n",
        "<p><strong>Quantum Computing (QC)</strong> leverages the principles of quantum mechanics (like superposition and entanglement) to process data in fundamentally new ways using qubits.</p>\n",
        "<p><strong>High-Performance Computing (HPC)</strong> uses classical processors (CPUs/GPUs) arranged in powerful parallel architectures for large-scale computation.</p>\n",
        "\n",
        "<h4>🔍 Significance & Comparison</h4>\n",
        "<table>\n",
        "    <thead>\n",
        "        <tr><th>Aspect</th><th>Quantum Computing (QC)</th><th>High-Performance Computing (HPC)</th></tr>\n",
        "    </thead>\n",
        "    <tbody>\n",
        "        <tr><td>Speed (theoretical)</td><td>Exponential speed-up for specific tasks</td><td>Linear/polynomial scaling</td></tr>\n",
        "        <tr><td>Architecture</td><td>Qubits, entanglement, gates</td><td>CPUs, GPUs, clusters</td></tr>\n",
        "        <tr><td>Efficiency</td><td>Ideal for quantum chemistry, cryptography, some ML</td><td>Great for deep learning, simulations</td></tr>\n",
        "        <tr><td>Current Maturity</td><td>Still experimental (NISQ era)</td><td>Production-ready</td></tr>\n",
        "        <tr><td>Precision</td><td>Noisy and prone to decoherence</td><td>Highly precise</td></tr>\n",
        "    </tbody>\n",
        "</table>\n",
        "\n",
        "<h4>📉 Limitations of Quantum Computing</h4>\n",
        "<ul>\n",
        "    <li><strong>NISQ Devices:</strong> Limited qubit count, noisy results</li>\n",
        "    <li><strong>Hardware Constraints:</strong> Few stable qubits available</li>\n",
        "    <li><strong>Programming Complexity:</strong> Harder than classical ML development</li>\n",
        "</ul>\n",
        "\n",
        "<h4>📊 Results from Experiment</h4>\n",
        "<ul>\n",
        "    <li><strong>Classical Model:</strong> ~73.5% Accuracy</li>\n",
        "    <li><strong>Hybrid QCNN:</strong> ~29.5% Accuracy</li>\n",
        "</ul>\n",
        "<p>This shows that today's quantum models still need development to match classical benchmarks in practical scenarios.</p>\n",
        "\n",
        "<h3>2. Quantum Computing in Machine Learning (QML)</h3>\n",
        "\n",
        "<h4>✅ Potential Advantages of QML</h4>\n",
        "<table>\n",
        "    <thead>\n",
        "        <tr><th>Advantage</th><th>Explanation</th></tr>\n",
        "    </thead>\n",
        "    <tbody>\n",
        "        <tr><td>Speed-up in optimization</td><td>Quantum algorithms like QAOA can solve problems faster</td></tr>\n",
        "        <tr><td>High-dimensional data encoding</td><td>Qubits can encode more information than bits</td></tr>\n",
        "        <tr><td>Better sampling</td><td>Efficiently sample complex probability distributions</td></tr>\n",
        "        <tr><td>Quantum kernels</td><td>Enhanced SVM performance using quantum feature spaces</td></tr>\n",
        "    </tbody>\n",
        "</table>\n",
        "\n",
        "<h4>🧠 Impact on Real-World Applications</h4>\n",
        "<table>\n",
        "    <thead>\n",
        "        <tr><th>Domain</th><th>Quantum ML Benefits</th></tr>\n",
        "    </thead>\n",
        "    <tbody>\n",
        "        <tr><td>Natural Language Processing (NLP)</td><td>Quantum-enhanced embeddings</td></tr>\n",
        "        <tr><td>Computer Vision</td><td>Feature compression, entangled pixel representations</td></tr>\n",
        "        <tr><td>Predictive Analytics</td><td>Faster probabilistic modeling and forecasting</td></tr>\n",
        "    </tbody>\n",
        "</table>\n",
        "\n",
        "<h4>📌 Summary of Experiment</h4>\n",
        "<table class=\"summary-table\">\n",
        "    <thead>\n",
        "        <tr><th>Model</th><th>Performance</th><th>Interpretation</th></tr>\n",
        "    </thead>\n",
        "    <tbody>\n",
        "        <tr><td>Classical</td><td>✅ ~73.5%</td><td>Well-optimized and stable</td></tr>\n",
        "        <tr><td>Hybrid QCNN</td><td>❌ ~29.5%</td><td>Promising but limited by current tech</td></tr>\n",
        "    </tbody>\n",
        "</table>\n",
        "\n",
        "<h3>🚀 Final Thoughts</h3>\n",
        "<p>Quantum computing complements—not replaces—HPC. As quantum hardware matures, expect hybrid quantum-classical architectures to play a growing role in next-gen AI, optimization, and data science workflows.</p>\n",
        "\n",
        "</body>\n",
        "</html>\n"
      ],
      "metadata": {
        "id": "axHtH5xG4yZr"
      }
    }
  ]
}